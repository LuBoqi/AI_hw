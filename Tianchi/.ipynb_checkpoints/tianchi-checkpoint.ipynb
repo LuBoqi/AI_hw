{
 "cells": [
  {
   "cell_type": "code",
   "outputs": [],
   "source": [
    "import pandas as pd\n",
    "import numpy as np\n",
    "import matplotlib.pyplot as plt\n",
    "import seaborn as sns\n",
    "plt.rcParams['font.sans-serif'] = ['SimHei']\n",
    "plt.rcParams[\"axes.unicode_minus\"] = False\n",
    "train_data = pd.read_csv(r'used_car_train_20200313.csv', sep=' ')\n",
    "test_data = pd.read_csv(r'used_car_testB_20200421.csv', sep=' ')"
   ],
   "metadata": {
    "collapsed": false,
    "ExecuteTime": {
     "start_time": "2024-01-21T12:42:39.484884838Z"
    }
   },
   "id": "9cae0f2322a5cda9",
   "execution_count": null
  },
  {
   "cell_type": "code",
   "outputs": [],
   "source": [
    "train_data.head()"
   ],
   "metadata": {
    "collapsed": false,
    "ExecuteTime": {
     "start_time": "2024-01-21T12:42:39.484924473Z"
    }
   },
   "id": "c8df56b4a154b84f",
   "execution_count": null
  },
  {
   "cell_type": "code",
   "outputs": [],
   "source": [
    "train_data.shape"
   ],
   "metadata": {
    "collapsed": false,
    "ExecuteTime": {
     "start_time": "2024-01-21T12:42:39.484961594Z"
    }
   },
   "id": "4c72810abe2ed668",
   "execution_count": null
  },
  {
   "cell_type": "code",
   "outputs": [],
   "source": [
    "train_data.info()"
   ],
   "metadata": {
    "collapsed": false,
    "ExecuteTime": {
     "end_time": "2024-01-21T12:42:39.505576860Z",
     "start_time": "2024-01-21T12:42:39.485000372Z"
    }
   },
   "id": "7e04098daced5752",
   "execution_count": null
  },
  {
   "cell_type": "code",
   "outputs": [],
   "source": [
    "train_data.isna().sum()"
   ],
   "metadata": {
    "collapsed": false,
    "ExecuteTime": {
     "start_time": "2024-01-21T12:42:39.485101323Z"
    }
   },
   "id": "dd55ec7dc746201a",
   "execution_count": null
  },
  {
   "cell_type": "code",
   "outputs": [],
   "source": [
    "test_data.head()"
   ],
   "metadata": {
    "collapsed": false,
    "ExecuteTime": {
     "start_time": "2024-01-21T12:42:39.485143232Z"
    }
   },
   "id": "36ecef473598c474",
   "execution_count": null
  },
  {
   "cell_type": "code",
   "outputs": [],
   "source": [
    "test_data.isna().sum()"
   ],
   "metadata": {
    "collapsed": false,
    "ExecuteTime": {
     "start_time": "2024-01-21T12:42:39.485206113Z"
    }
   },
   "id": "f0ec13a201366154",
   "execution_count": null
  },
  {
   "cell_type": "code",
   "outputs": [],
   "source": [
    "train_data['model'].fillna(-1, inplace=True)\n",
    "mode_value = train_data['bodyType'].mode()[0]\n",
    "train_data['bodyType'].fillna(mode_value, inplace=True)\n",
    "mode_value1 = test_data['bodyType'].mode()[0]\n",
    "test_data['bodyType'].fillna(mode_value1, inplace=True)\n",
    "mode_value = train_data['fuelType'].mode()[0]\n",
    "train_data['fuelType'].fillna(mode_value, inplace=True)\n",
    "mode_value1 = test_data['fuelType'].mode()[0]\n",
    "test_data['fuelType'].fillna(mode_value1, inplace=True)\n",
    "mode_value = train_data['gearbox'].mode()[0]\n",
    "train_data['gearbox'].fillna(mode_value, inplace=True)\n",
    "mode_value1 = test_data['gearbox'].mode()[0]\n",
    "test_data['gearbox'].fillna(mode_value1, inplace=True)"
   ],
   "metadata": {
    "collapsed": false,
    "ExecuteTime": {
     "start_time": "2024-01-21T12:42:39.485250256Z"
    }
   },
   "id": "3cf79c79e7a3a7d9",
   "execution_count": null
  },
  {
   "cell_type": "code",
   "outputs": [],
   "source": [
    "date_cols = ['regDate', 'creatDate']\n",
    "cate_cols = ['name', 'model', 'brand', 'bodyType', 'fuelType', 'gearbox', 'notRepairedDamage', 'regionCode', 'seller', 'offerType']\n",
    "num_cols = ['power', 'kilometer'] + ['v_{}'.format(i) for i in range(15)]\n",
    "data = pd.concat([train_data, test_data])\n",
    "cols = date_cols + cate_cols + num_cols\n",
    "\n",
    "tmp = pd.DataFrame()\n",
    "tmp['count'] = data[cols].count().values\n",
    "tmp['missing_rate'] = (data.shape[0] - tmp['count']) / data.shape[0]\n",
    "tmp['nunique'] = data[cols].nunique().values\n",
    "tmp.index = cols\n",
    "tmp"
   ],
   "metadata": {
    "collapsed": false,
    "ExecuteTime": {
     "start_time": "2024-01-21T12:42:39.485289384Z"
    }
   },
   "id": "ab605f8db106a5fd",
   "execution_count": null
  },
  {
   "cell_type": "code",
   "outputs": [],
   "source": [
    "# 删去无效特征字段SaleID\n",
    "train_data.drop('SaleID', axis=1, inplace=True)\n",
    "SaleID = test_data['SaleID']\n",
    "test_data.drop('SaleID', axis=1, inplace=True)"
   ],
   "metadata": {
    "collapsed": false,
    "ExecuteTime": {
     "start_time": "2024-01-21T12:42:39.485326871Z"
    }
   },
   "id": "28552238c8b40719",
   "execution_count": null
  },
  {
   "cell_type": "code",
   "outputs": [],
   "source": [
    "#对regDate和creatDate拆分，年月日\n",
    "train_data['regDate_y'] = (train_data['regDate']/10000).astype('int64')\n",
    "train_data['regDate_m'] = (train_data['regDate']/100-train_data['regDate_y']*100).astype('int64')\n",
    "train_data['regDate_d'] = (train_data['regDate']-train_data['regDate_m']*100-train_data['regDate_y']*10000).astype('int64')\n",
    "train_data['creatDate_y'] = (train_data['creatDate']/10000).astype('int64')\n",
    "train_data['creatDate_m'] = (train_data['creatDate']/100-train_data['creatDate_y']*100).astype('int64')\n",
    "train_data['creatDate_d'] = (train_data['creatDate']-train_data['creatDate_m']*100-train_data['creatDate_y']*10000).astype('int64')\n",
    "test_data['regDate_y'] = (test_data['regDate']/10000).astype('int64')\n",
    "test_data['regDate_m'] = (test_data['regDate']/100-test_data['regDate_y']*100).astype('int64')\n",
    "test_data['regDate_d'] = (test_data['regDate']-test_data['regDate_m']*100-test_data['regDate_y']*10000).astype('int64')\n",
    "test_data['creatDate_y'] = (test_data['creatDate']/10000).astype('int64')\n",
    "test_data['creatDate_m'] = (test_data['creatDate']/100-test_data['creatDate_y']*100).astype('int64')\n",
    "test_data['creatDate_d'] = (test_data['creatDate']-test_data['creatDate_m']*100-test_data['creatDate_y']*10000).astype('int64')\n",
    "train_data.drop(['regDate','creatDate'], axis=1, inplace=True)\n",
    "test_data.drop(['regDate','creatDate'], axis=1, inplace=True)"
   ],
   "metadata": {
    "collapsed": false,
    "ExecuteTime": {
     "start_time": "2024-01-21T12:42:39.485420521Z"
    }
   },
   "id": "fa4db7e8539f18a0",
   "execution_count": null
  },
  {
   "cell_type": "code",
   "outputs": [],
   "source": [
    "#查看特征的直方图\n",
    "train_data.hist(figsize=(20,15))"
   ],
   "metadata": {
    "collapsed": false,
    "ExecuteTime": {
     "start_time": "2024-01-21T12:42:39.485463303Z"
    }
   },
   "id": "cdd1e4f912f2fa1b",
   "execution_count": null
  },
  {
   "cell_type": "code",
   "outputs": [],
   "source": [
    "print(train_data['offerType'].unique())\n",
    "train_data['offerType'].isna().any()\n",
    "train_data.drop('offerType', axis=1, inplace=True)\n",
    "test_data.drop('offerType', axis=1, inplace=True)"
   ],
   "metadata": {
    "collapsed": false,
    "ExecuteTime": {
     "start_time": "2024-01-21T12:42:39.485502296Z"
    }
   },
   "id": "a96b86a8f5fbe903",
   "execution_count": null
  },
  {
   "cell_type": "code",
   "outputs": [],
   "source": [
    "print(train_data['seller'].unique())\n",
    "train_data['seller'].isna().any()"
   ],
   "metadata": {
    "collapsed": false,
    "ExecuteTime": {
     "start_time": "2024-01-21T12:42:39.485556164Z"
    }
   },
   "id": "dad80a34b3dbd4fa",
   "execution_count": null
  },
  {
   "cell_type": "code",
   "outputs": [],
   "source": [
    "#notRepairedDamage\t汽车有尚未修复的损坏：是：0，否：1\n",
    "mapping = {'0.0': 0, '-': -1, '1.0': 1}\n",
    "train_data['notRepairedDamage'] = train_data['notRepairedDamage'].map(mapping).astype(int)\n",
    "test_data['notRepairedDamage'] = test_data['notRepairedDamage'].map(mapping).astype(int)"
   ],
   "metadata": {
    "collapsed": false,
    "ExecuteTime": {
     "start_time": "2024-01-21T12:42:39.485599230Z"
    }
   },
   "id": "debed9695b6afdd8",
   "execution_count": null
  },
  {
   "cell_type": "code",
   "outputs": [],
   "source": [
    "def count_out_of_range(series):\n",
    "    q1, q3 = np.percentile(series, [25, 75])\n",
    "    iqr = q3 - q1\n",
    "    lower_limit = q1 - 1.5 * iqr\n",
    "    upper_limit = q3 + 1.5 * iqr\n",
    "    # 计算大于上限的个数\n",
    "    count_above = len(series[series > upper_limit])\n",
    "\n",
    "    # 计算小于下限的个数\n",
    "    count_below = len(series[series < lower_limit])\n",
    "\n",
    "    # 返回结果\n",
    "    return count_above, count_below\n",
    "outlier_counts = train_data.apply(count_out_of_range)\n",
    "\n",
    "# 打印结果\n",
    "print(outlier_counts)"
   ],
   "metadata": {
    "collapsed": false,
    "ExecuteTime": {
     "start_time": "2024-01-21T12:42:39.485639779Z"
    }
   },
   "id": "15817db2474a4fe9",
   "execution_count": null
  },
  {
   "cell_type": "code",
   "outputs": [],
   "source": [
    "#model\t车型编码，已脱敏\n",
    "train_data['model'].value_counts()"
   ],
   "metadata": {
    "collapsed": false,
    "ExecuteTime": {
     "start_time": "2024-01-21T12:42:39.485734208Z"
    }
   },
   "id": "339a49dd65a59362",
   "execution_count": null
  },
  {
   "cell_type": "code",
   "outputs": [],
   "source": [
    "#gearbox\t变速箱：手动：0，自动：1\n",
    "train_data['gearbox'].value_counts()"
   ],
   "metadata": {
    "collapsed": false,
    "ExecuteTime": {
     "start_time": "2024-01-21T12:42:39.485776540Z"
    }
   },
   "id": "d8864f27e80d9bd5",
   "execution_count": null
  },
  {
   "cell_type": "code",
   "outputs": [],
   "source": [
    "#异常值截断\n",
    "train_data.loc[train_data['power']>600, 'power'] = 600\n",
    "train_data.loc[train_data['power']<1, 'power'] = 1\n",
    "test_data.loc[test_data['power']>600, 'power'] = 600\n",
    "test_data.loc[test_data['power']<0, 'power'] = 0\n",
    "train_data.loc[train_data['v_13']>6, 'v_13'] = 6\n",
    "test_data.loc[test_data['v_13']>6, 'v_13'] = 6\n",
    "train_data.loc[train_data['v_14']>4, 'v_14'] = 4\n",
    "test_data.loc[test_data['v_14']>4, 'v_14'] = 4"
   ],
   "metadata": {
    "collapsed": false,
    "ExecuteTime": {
     "start_time": "2024-01-21T12:42:39.485803371Z"
    }
   },
   "id": "78239813544e405",
   "execution_count": null
  },
  {
   "cell_type": "code",
   "outputs": [],
   "source": [
    "# 使用 fillna() 方法填充缺失值将含有空值和“-”的值全部替换为\n",
    "train_data['notRepairedDamage'] = train_data['notRepairedDamage'].replace('-', np.nan)\n",
    "train_data['notRepairedDamage'].fillna(0, inplace=True)\n",
    "\n",
    "test_data['notRepairedDamage'] = test_data['notRepairedDamage'].replace('-', np.nan)\n",
    "test_data['notRepairedDamage'].fillna(0, inplace=True)"
   ],
   "metadata": {
    "collapsed": false,
    "ExecuteTime": {
     "start_time": "2024-01-21T12:42:39.485831712Z"
    }
   },
   "id": "f9b33a176a95c517",
   "execution_count": null
  },
  {
   "cell_type": "code",
   "outputs": [],
   "source": [
    "tmp = pd.DataFrame(index = num_cols)\n",
    "for col in num_cols:\n",
    "    tmp.loc[col, 'train_Skewness'] = train_data[col].skew()\n",
    "    tmp.loc[col, 'test_Skewness'] = test_data[col].skew()\n",
    "    tmp.loc[col, 'train_Kurtosis'] = train_data[col].kurt()\n",
    "    tmp.loc[col, 'test_Kurtosis'] = test_data[col].kurt()\n",
    "tmp"
   ],
   "metadata": {
    "collapsed": false,
    "ExecuteTime": {
     "start_time": "2024-01-21T12:42:39.485884727Z"
    }
   },
   "id": "235e8f9af8c5f7e0",
   "execution_count": null
  },
  {
   "cell_type": "code",
   "outputs": [],
   "source": [
    "#设置画布大小\n",
    "plt.figure(figsize=(20,15))\n",
    "# 通过热力图查看特征之间的相关性\n",
    "sns.heatmap(train_data.corr().round(2), annot=True, cmap='coolwarm')\n",
    "plt.show()"
   ],
   "metadata": {
    "collapsed": false,
    "ExecuteTime": {
     "start_time": "2024-01-21T12:42:39.485911490Z"
    }
   },
   "id": "bae4f897315b3ee4",
   "execution_count": null
  },
  {
   "cell_type": "code",
   "outputs": [],
   "source": [
    "##对特征值排序可视化\n",
    "f, ax = plt.subplots(figsize=(10, 6))\n",
    "train_data.corr()['price'].drop('price').sort_values().plot.barh();"
   ],
   "metadata": {
    "collapsed": false,
    "ExecuteTime": {
     "start_time": "2024-01-21T12:42:39.485937616Z"
    }
   },
   "id": "59c012b48599fcb4",
   "execution_count": null
  },
  {
   "cell_type": "code",
   "outputs": [],
   "source": [
    "#绘制特征与车价的散点图\n",
    "#设置画布大小\n",
    "plt.figure(figsize=(10,6))\n",
    "#绘制散点图\n",
    "plt.scatter(train_data['v_0'],train_data['price'])\n",
    "#显示图形\n",
    "plt.show()"
   ],
   "metadata": {
    "collapsed": false,
    "ExecuteTime": {
     "start_time": "2024-01-21T12:42:39.485960590Z"
    }
   },
   "id": "9c408f40c518c37a",
   "execution_count": null
  },
  {
   "cell_type": "code",
   "outputs": [],
   "source": [
    "#绘制特征与车价的散点图\n",
    "#设置画布大小\n",
    "plt.figure(figsize=(10,6))\n",
    "#绘制散点图\n",
    "plt.scatter(train_data['v_3'],train_data['price'])\n",
    "#显示图形\n",
    "plt.show()"
   ],
   "metadata": {
    "collapsed": false,
    "ExecuteTime": {
     "start_time": "2024-01-21T12:42:39.485985427Z"
    }
   },
   "id": "39ae307804139eb6",
   "execution_count": null
  },
  {
   "cell_type": "code",
   "outputs": [],
   "source": [
    "#绘制特征与车价的散点图\n",
    "#设置画布大小\n",
    "plt.figure(figsize=(10,6))\n",
    "#绘制散点图\n",
    "plt.scatter(train_data['v_8'],train_data['price'])\n",
    "#显示图形\n",
    "plt.show()"
   ],
   "metadata": {
    "collapsed": false,
    "ExecuteTime": {
     "start_time": "2024-01-21T12:42:39.486008369Z"
    }
   },
   "id": "d1490725a4e1f596",
   "execution_count": null
  },
  {
   "cell_type": "code",
   "outputs": [],
   "source": [
    "#绘制特征与车价的散点图\n",
    "#设置画布大小\n",
    "plt.figure(figsize=(10,6))\n",
    "#绘制散点图\n",
    "plt.scatter(train_data['v_12'],train_data['price'])\n",
    "#显示图形\n",
    "plt.show()"
   ],
   "metadata": {
    "collapsed": false,
    "ExecuteTime": {
     "start_time": "2024-01-21T12:42:39.486031681Z"
    }
   },
   "id": "9fa9c6068d58687d",
   "execution_count": null
  },
  {
   "cell_type": "code",
   "outputs": [],
   "source": [
    "sns.histplot(train_data['price'], kde=True)\n",
    "plt.show()"
   ],
   "metadata": {
    "collapsed": false,
    "ExecuteTime": {
     "start_time": "2024-01-21T12:42:39.486055479Z"
    }
   },
   "id": "3ffc682f02a43a00",
   "execution_count": null
  },
  {
   "cell_type": "code",
   "outputs": [],
   "source": [
    "#分布转换\n",
    "train_data['price'] = np.log1p(train_data['price'])\n",
    "plt.figure(figsize=(15,5))\n",
    "sns.histplot(train_data['price'], kde=True)"
   ],
   "metadata": {
    "collapsed": false,
    "ExecuteTime": {
     "start_time": "2024-01-21T12:42:39.486078262Z"
    }
   },
   "id": "28e722e9497b0348",
   "execution_count": null
  },
  {
   "cell_type": "code",
   "outputs": [],
   "source": [
    "train_data['price']"
   ],
   "metadata": {
    "collapsed": false,
    "ExecuteTime": {
     "start_time": "2024-01-21T12:42:39.486138821Z"
    }
   },
   "id": "4b32f1eba6f3d418",
   "execution_count": null
  },
  {
   "cell_type": "code",
   "outputs": [],
   "source": [
    "x = train_data.drop('price', axis=1)\n",
    "y = train_data['price']"
   ],
   "metadata": {
    "collapsed": false,
    "ExecuteTime": {
     "start_time": "2024-01-21T12:42:39.486166818Z"
    }
   },
   "id": "9e6805a7d87cbbfe",
   "execution_count": null
  },
  {
   "cell_type": "code",
   "outputs": [],
   "source": [
    "## 数据标准化\n",
    "from sklearn.preprocessing import StandardScaler\n",
    "scaler = StandardScaler()\n",
    "X_stand = scaler.fit_transform(x)\n",
    "print(x, X_stand)"
   ],
   "metadata": {
    "collapsed": false,
    "ExecuteTime": {
     "start_time": "2024-01-21T12:42:39.486421132Z"
    }
   },
   "id": "60056db872355ec9",
   "execution_count": null
  },
  {
   "cell_type": "code",
   "outputs": [],
   "source": [
    "#抽取最相关的几个特征进行训练\n",
    "from sklearn.feature_selection import SelectKBest, f_regression\n",
    "selector = SelectKBest(f_regression, k=17)\n",
    "x_best = selector.fit_transform(X_stand,y)\n",
    "x_best"
   ],
   "metadata": {
    "collapsed": false,
    "ExecuteTime": {
     "start_time": "2024-01-21T12:42:39.530522008Z"
    }
   },
   "id": "4f6ab51f9360da6a",
   "execution_count": null
  },
  {
   "cell_type": "code",
   "outputs": [],
   "source": [
    "from sklearn.model_selection import train_test_split\n",
    "# 划分训练集和测试集\n",
    "X_train, X_test, y_train, y_test = train_test_split(x_best, y, test_size=0.2)\n",
    "\n",
    "from sklearn.linear_model import LinearRegression\n",
    "from sklearn.metrics import mean_squared_error, mean_absolute_error\n",
    "# 训练模型\n",
    "model = LinearRegression()\n",
    "model = model.fit(X_train, y_train)\n",
    "\n",
    "# 预测价格\n",
    "y_pred = model.predict(X_test)\n",
    "#均方误差\n",
    "mse = mean_squared_error(y_test,y_pred)\n",
    "print(\"测试数据的误差：\",mse)\n",
    "train_y_pred = model.predict(X_train)\n",
    "print('MAE of Stacking-LR for training set:',mean_absolute_error(y_train,train_y_pred))\n",
    "print('MAE of Stacking-LR for testing set:',mean_absolute_error(y_test,y_pred))"
   ],
   "metadata": {
    "collapsed": false,
    "ExecuteTime": {
     "start_time": "2024-01-21T12:42:39.530582219Z"
    }
   },
   "id": "d2abf08bfa777d8e",
   "execution_count": null
  },
  {
   "cell_type": "code",
   "outputs": [],
   "source": [
    "plt.figure(figsize=(20, 16))\n",
    "plt.plot(y_test.values,c=\"r\",label=\"y_test\")\n",
    "plt.plot(y_pred,c=\"b\",label=\"y_pred\")\n",
    "plt.legend()\n",
    "plt.show()"
   ],
   "metadata": {
    "collapsed": false,
    "ExecuteTime": {
     "start_time": "2024-01-21T12:42:39.530599734Z"
    }
   },
   "id": "8fa1a5320e2e82ad",
   "execution_count": null
  },
  {
   "cell_type": "code",
   "outputs": [],
   "source": [
    "from sklearn.ensemble import RandomForestRegressor\n",
    "from sklearn.model_selection import train_test_split\n",
    "from sklearn.metrics import mean_squared_error, mean_absolute_error\n",
    "\n",
    "# 划分训练集和测试集\n",
    "x_train, x_test, y_train, y_test = train_test_split(X_stand, y, test_size=0.2, random_state=42)\n",
    "\n",
    "# 建立随机森林回归模型\n",
    "rf_model = RandomForestRegressor(n_estimators=100, random_state=42)\n",
    "rf_model.fit(x_train, y_train)\n",
    "\n",
    "# 在测试集上进行预测\n",
    "y_pred = rf_model.predict(x_test)\n",
    "\n",
    "# 评估模型性能\n",
    "mse = mean_squared_error(y_test, y_pred)\n",
    "rmse = np.sqrt(mse)\n",
    "print(\"均方误差（MSE）：\", mse)\n",
    "mae = mean_absolute_error(y_test, y_pred)\n",
    "print(\"MAE of Random Forest Regression: \", mae)"
   ],
   "metadata": {
    "collapsed": false,
    "ExecuteTime": {
     "start_time": "2024-01-21T12:42:39.530613292Z"
    }
   },
   "id": "b9182b458a160b52"
  },
  {
   "cell_type": "code",
   "outputs": [],
   "source": [
    "# 将测试级数据标准化\n",
    "t_X_stand = scaler.fit_transform(test_data)\n",
    "# 选择k个最相关的特征进行训练\n",
    "best_x = t_X_stand[:,selector.get_support(indices=True)]"
   ],
   "metadata": {
    "collapsed": false,
    "ExecuteTime": {
     "start_time": "2024-01-21T12:42:39.530626722Z"
    }
   },
   "id": "fe4a281dc2357456"
  },
  {
   "cell_type": "code",
   "outputs": [],
   "source": [
    "# 预测二手车交易价格\n",
    "t_y_pred = rf_model.predict(t_X_stand)\n",
    "t_y_pred"
   ],
   "metadata": {
    "collapsed": false,
    "ExecuteTime": {
     "start_time": "2024-01-21T12:42:39.530650027Z"
    }
   },
   "id": "2cea1412ac9a3653"
  },
  {
   "cell_type": "code",
   "outputs": [],
   "source": [
    "prices = np.exp(t_y_pred) - 1"
   ],
   "metadata": {
    "collapsed": false,
    "ExecuteTime": {
     "start_time": "2024-01-21T12:42:39.530665048Z"
    }
   },
   "id": "f9987fe3ed116e37"
  },
  {
   "cell_type": "code",
   "outputs": [],
   "source": [
    "prices"
   ],
   "metadata": {
    "collapsed": false,
    "ExecuteTime": {
     "start_time": "2024-01-21T12:42:39.530680277Z"
    }
   },
   "id": "2467ae878a054efa"
  },
  {
   "cell_type": "code",
   "outputs": [],
   "source": [
    "series = pd.Series(range(150000, 200000))\n",
    "result = pd.DataFrame(data={\n",
    "    'SaleID':series,\n",
    "    'price':prices\n",
    "})\n",
    "result.to_csv('predictions.csv', index=False)"
   ],
   "metadata": {
    "collapsed": false,
    "ExecuteTime": {
     "end_time": "2024-01-21T12:42:39.532629805Z",
     "start_time": "2024-01-21T12:42:39.530695534Z"
    }
   },
   "id": "b2e2fc3a442f8808"
  }
 ],
 "metadata": {
  "kernelspec": {
   "display_name": "Python 3",
   "language": "python",
   "name": "python3"
  },
  "language_info": {
   "codemirror_mode": {
    "name": "ipython",
    "version": 2
   },
   "file_extension": ".py",
   "mimetype": "text/x-python",
   "name": "python",
   "nbconvert_exporter": "python",
   "pygments_lexer": "ipython2",
   "version": "2.7.6"
  }
 },
 "nbformat": 4,
 "nbformat_minor": 5
}
