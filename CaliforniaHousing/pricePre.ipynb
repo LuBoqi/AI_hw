{
 "cells": [
  {
   "cell_type": "code",
   "execution_count": 37,
   "id": "initial_id",
   "metadata": {
    "collapsed": true,
    "ExecuteTime": {
     "end_time": "2024-01-08T16:07:15.329269664Z",
     "start_time": "2024-01-08T16:07:15.327887258Z"
    }
   },
   "outputs": [],
   "source": [
    "import pandas as pd\n",
    "import seaborn as sns"
   ]
  },
  {
   "cell_type": "code",
   "outputs": [
    {
     "data": {
      "text/plain": "   longitude  latitude  housingMedianAge  totalRooms  totalBedrooms  \\\n0    -122.23     37.88              41.0       880.0          129.0   \n1    -122.22     37.86              21.0      7099.0         1106.0   \n2    -122.24     37.85              52.0      1467.0          190.0   \n3    -122.25     37.85              52.0      1274.0          235.0   \n4    -122.25     37.85              52.0      1627.0          280.0   \n\n   population  households  medianIncome  medianHouseValue  \n0       322.0       126.0        8.3252          452600.0  \n1      2401.0      1138.0        8.3014          358500.0  \n2       496.0       177.0        7.2574          352100.0  \n3       558.0       219.0        5.6431          341300.0  \n4       565.0       259.0        3.8462          342200.0  ",
      "text/html": "<div>\n<style scoped>\n    .dataframe tbody tr th:only-of-type {\n        vertical-align: middle;\n    }\n\n    .dataframe tbody tr th {\n        vertical-align: top;\n    }\n\n    .dataframe thead th {\n        text-align: right;\n    }\n</style>\n<table border=\"1\" class=\"dataframe\">\n  <thead>\n    <tr style=\"text-align: right;\">\n      <th></th>\n      <th>longitude</th>\n      <th>latitude</th>\n      <th>housingMedianAge</th>\n      <th>totalRooms</th>\n      <th>totalBedrooms</th>\n      <th>population</th>\n      <th>households</th>\n      <th>medianIncome</th>\n      <th>medianHouseValue</th>\n    </tr>\n  </thead>\n  <tbody>\n    <tr>\n      <th>0</th>\n      <td>-122.23</td>\n      <td>37.88</td>\n      <td>41.0</td>\n      <td>880.0</td>\n      <td>129.0</td>\n      <td>322.0</td>\n      <td>126.0</td>\n      <td>8.3252</td>\n      <td>452600.0</td>\n    </tr>\n    <tr>\n      <th>1</th>\n      <td>-122.22</td>\n      <td>37.86</td>\n      <td>21.0</td>\n      <td>7099.0</td>\n      <td>1106.0</td>\n      <td>2401.0</td>\n      <td>1138.0</td>\n      <td>8.3014</td>\n      <td>358500.0</td>\n    </tr>\n    <tr>\n      <th>2</th>\n      <td>-122.24</td>\n      <td>37.85</td>\n      <td>52.0</td>\n      <td>1467.0</td>\n      <td>190.0</td>\n      <td>496.0</td>\n      <td>177.0</td>\n      <td>7.2574</td>\n      <td>352100.0</td>\n    </tr>\n    <tr>\n      <th>3</th>\n      <td>-122.25</td>\n      <td>37.85</td>\n      <td>52.0</td>\n      <td>1274.0</td>\n      <td>235.0</td>\n      <td>558.0</td>\n      <td>219.0</td>\n      <td>5.6431</td>\n      <td>341300.0</td>\n    </tr>\n    <tr>\n      <th>4</th>\n      <td>-122.25</td>\n      <td>37.85</td>\n      <td>52.0</td>\n      <td>1627.0</td>\n      <td>280.0</td>\n      <td>565.0</td>\n      <td>259.0</td>\n      <td>3.8462</td>\n      <td>342200.0</td>\n    </tr>\n  </tbody>\n</table>\n</div>"
     },
     "execution_count": 38,
     "metadata": {},
     "output_type": "execute_result"
    }
   ],
   "source": [
    "header = ['longitude', 'latitude', 'housingMedianAge',\n",
    "          'totalRooms', 'totalBedrooms', 'population',\n",
    "          'households', 'medianIncome', 'medianHouseValue']\n",
    "data = pd.read_csv('cal_housing.data', names=header)\n",
    "data.head()"
   ],
   "metadata": {
    "collapsed": false,
    "ExecuteTime": {
     "end_time": "2024-01-08T16:07:15.976250510Z",
     "start_time": "2024-01-08T16:07:15.956292241Z"
    }
   },
   "id": "1f48dff1a4a3d602",
   "execution_count": 38
  },
  {
   "cell_type": "code",
   "outputs": [
    {
     "name": "stdout",
     "output_type": "stream",
     "text": [
      "<class 'pandas.core.frame.DataFrame'>\n",
      "RangeIndex: 20640 entries, 0 to 20639\n",
      "Data columns (total 9 columns):\n",
      " #   Column            Non-Null Count  Dtype  \n",
      "---  ------            --------------  -----  \n",
      " 0   longitude         20640 non-null  float64\n",
      " 1   latitude          20640 non-null  float64\n",
      " 2   housingMedianAge  20640 non-null  float64\n",
      " 3   totalRooms        20640 non-null  float64\n",
      " 4   totalBedrooms     20640 non-null  float64\n",
      " 5   population        20640 non-null  float64\n",
      " 6   households        20640 non-null  float64\n",
      " 7   medianIncome      20640 non-null  float64\n",
      " 8   medianHouseValue  20640 non-null  float64\n",
      "dtypes: float64(9)\n",
      "memory usage: 1.4 MB\n"
     ]
    }
   ],
   "source": [
    "data.info()"
   ],
   "metadata": {
    "collapsed": false,
    "ExecuteTime": {
     "end_time": "2024-01-08T16:07:17.035031660Z",
     "start_time": "2024-01-08T16:07:17.028351124Z"
    }
   },
   "id": "1c4084d73fb7e0d6",
   "execution_count": 39
  },
  {
   "cell_type": "code",
   "outputs": [
    {
     "data": {
      "text/plain": "0"
     },
     "execution_count": 40,
     "metadata": {},
     "output_type": "execute_result"
    }
   ],
   "source": [
    "#查看重复值\n",
    "data.duplicated().sum()"
   ],
   "metadata": {
    "collapsed": false,
    "ExecuteTime": {
     "end_time": "2024-01-08T16:07:17.693904237Z",
     "start_time": "2024-01-08T16:07:17.682694725Z"
    }
   },
   "id": "b37e0c5c183ab1f7",
   "execution_count": 40
  },
  {
   "cell_type": "code",
   "outputs": [],
   "source": [
    "sns.lineplot('medianHouseValue',data=data)"
   ],
   "metadata": {
    "collapsed": false,
    "ExecuteTime": {
     "end_time": "2024-01-08T16:07:08.458081655Z",
     "start_time": "2024-01-08T16:07:08.457886696Z"
    }
   },
   "id": "259e0eac3ecf2b2d",
   "execution_count": null
  }
 ],
 "metadata": {
  "kernelspec": {
   "display_name": "Python 3",
   "language": "python",
   "name": "python3"
  },
  "language_info": {
   "codemirror_mode": {
    "name": "ipython",
    "version": 2
   },
   "file_extension": ".py",
   "mimetype": "text/x-python",
   "name": "python",
   "nbconvert_exporter": "python",
   "pygments_lexer": "ipython2",
   "version": "2.7.6"
  }
 },
 "nbformat": 4,
 "nbformat_minor": 5
}
